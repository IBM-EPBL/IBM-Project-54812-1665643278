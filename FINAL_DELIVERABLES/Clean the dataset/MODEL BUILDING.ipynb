{
  "nbformat": 4,
  "nbformat_minor": 0,
  "metadata": {
    "colab": {
      "provenance": []
    },
    "kernelspec": {
      "name": "python3",
      "display_name": "Python 3"
    },
    "language_info": {
      "name": "python"
    }
  },
  "cells": [
    {
      "cell_type": "code",
      "execution_count": null,
      "metadata": {
        "id": "xImyXHOMI1G2"
      },
      "outputs": [],
      "source": []
    },
    {
      "cell_type": "markdown",
      "source": [
        "#  MODEL BUILDING"
      ],
      "metadata": {
        "id": "QJ4UlfD5KWRr"
      }
    },
    {
      "cell_type": "code",
      "source": [
        "logreg = LogisticRegression(solver='lbfgs',max_iter=10000)"
      ],
      "metadata": {
        "id": "gr1oPfbRRhgq"
      },
      "execution_count": 29,
      "outputs": []
    },
    {
      "cell_type": "code",
      "source": [
        "logreg.fit(X_train,y_train)"
      ],
      "metadata": {
        "id": "PmgH3URgRjwH"
      },
      "execution_count": null,
      "outputs": []
    },
    {
      "cell_type": "code",
      "source": [],
      "metadata": {
        "id": "UT70w_8VSxNO"
      },
      "execution_count": null,
      "outputs": []
    }
  ]
}