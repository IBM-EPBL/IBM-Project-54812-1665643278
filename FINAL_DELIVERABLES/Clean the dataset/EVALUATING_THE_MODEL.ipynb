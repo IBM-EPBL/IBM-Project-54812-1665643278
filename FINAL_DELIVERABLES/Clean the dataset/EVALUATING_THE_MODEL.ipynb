{
  "nbformat": 4,
  "nbformat_minor": 0,
  "metadata": {
    "colab": {
      "provenance": []
    },
    "kernelspec": {
      "name": "python3",
      "display_name": "Python 3"
    },
    "language_info": {
      "name": "python"
    }
  },
  "cells": [
    {
      "cell_type": "code",
      "execution_count": null,
      "metadata": {
        "id": "xImyXHOMI1G2"
      },
      "outputs": [],
      "source": []
    },
    {
      "cell_type": "markdown",
      "source": [
        "# EVALUATING THE MODEL"
      ],
      "metadata": {
        "id": "QJ4UlfD5KWRr"
      }
    },
    {
      "cell_type": "code",
      "source": [
        "from sklearn.metrics import accuracy_score, confusion_matrix"
      ],
      "metadata": {
        "id": "gr1oPfbRRhgq"
      },
      "execution_count": 27,
      "outputs": []
    },
    {
      "cell_type": "code",
      "source": [
        "print('Train Accuracy: ', accuracy_score(y_train, train_pred))\n",
        "print('Test Accuracy: ', accuracy_score(y_test, test_pred))"
      ],
      "metadata": {
        "id": "PmgH3URgRjwH"
      },
      "execution_count": null,
      "outputs": []
    }
  ]
}