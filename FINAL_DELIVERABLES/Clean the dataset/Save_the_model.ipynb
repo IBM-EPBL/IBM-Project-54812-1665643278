{
  "cells": [
    {
      "cell_type": "markdown",
      "metadata": {
        "id": "rvW57A2WK1rW"
      },
      "source": [
        "## Saving the models"
      ]
    },
    {
      "cell_type": "code",
      "execution_count": 12,
      "metadata": {
        "id": "2TauSPFLWl0B"
      },
      "outputs": [],
      "source": [
        "filename = \"Completed_model.joblib\""
      ]
    },
    {
      "cell_type": "code",
      "execution_count": null,
      "metadata": {
        "id": "YcHWOFgUWouB"
      },
      "outputs": [],
      "source": [
        "joblib.dump(logreg, filename)"
      ]
    },
    {
      "cell_type": "code",
      "execution_count": null,
      "metadata": {
        "id": "Imug0ULTWxg3"
      },
      "outputs": [],
      "source": [
        "loaded_model = joblib.load(filename)\n",
        "result = loaded_model.score(X_test, y_test)\n",
        "print(result)"
      ]
    },
    {
      "cell_type": "code",
      "execution_count": 15,
      "metadata": {
        "id": "UpAMXqY_W1pN"
      },
      "outputs": [],
      "source": [
        "###################################################################################"
      ]
    },
    {
      "cell_type": "code",
      "execution_count": 16,
      "metadata": {
        "id": "309c0HnZW2iD"
      },
      "outputs": [],
      "source": [
        "#new  =  pd.read_csv('new_user.csv')"
      ]
    },
    {
      "cell_type": "code",
      "execution_count": 17,
      "metadata": {
        "id": "moKCZQzOW6Dw"
      },
      "outputs": [],
      "source": [
        "#new_output = logreg.predict(new)"
      ]
    },
    {
      "cell_type": "code",
      "execution_count": 18,
      "metadata": {
        "id": "nzh9lGcrW8b2"
      },
      "outputs": [],
      "source": [
        "#print(new_output)"
      ]
    }
  ],
  "metadata": {
    "colab": {
      "provenance": []
    },
    "kernelspec": {
      "display_name": "Python 3",
      "name": "python3"
    },
    "language_info": {
      "name": "python"
    }
  },
  "nbformat": 4,
  "nbformat_minor": 0
}
