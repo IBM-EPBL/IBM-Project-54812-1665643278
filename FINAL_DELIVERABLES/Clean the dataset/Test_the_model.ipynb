{
  "nbformat": 4,
  "nbformat_minor": 0,
  "metadata": {
    "colab": {
      "provenance": []
    },
    "kernelspec": {
      "name": "python3",
      "display_name": "Python 3"
    },
    "language_info": {
      "name": "python"
    }
  },
  "cells": [
    {
      "cell_type": "markdown",
      "source": [
        "## Test the model"
      ],
      "metadata": {
        "id": "rvW57A2WK1rW"
      }
    },
    {
      "cell_type": "code",
      "source": [
        "test_pred = logreg.predict(X_test)\n",
        "train_pred = logreg.predict(X_train)"
      ],
      "metadata": {
        "id": "f0oS2AUaZy-R"
      },
      "execution_count": null,
      "outputs": []
    },
    {
      "cell_type": "code",
      "source": [
        "import sklearn.metrics as metrics"
      ],
      "metadata": {
        "id": "LXYHhpLdZ4v6"
      },
      "execution_count": 22,
      "outputs": []
    }
  ]
}