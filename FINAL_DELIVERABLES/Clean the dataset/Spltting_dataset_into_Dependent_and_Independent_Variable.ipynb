{
  "nbformat": 4,
  "nbformat_minor": 0,
  "metadata": {
    "colab": {
      "provenance": []
    },
    "kernelspec": {
      "name": "python3",
      "display_name": "Python 3"
    },
    "language_info": {
      "name": "python"
    }
  },
  "cells": [
    {
      "cell_type": "code",
      "execution_count": null,
      "metadata": {
        "id": "xImyXHOMI1G2"
      },
      "outputs": [],
      "source": []
    },
    {
      "cell_type": "markdown",
      "source": [
        "# Spltting dataset into Dependent and Independent Variable"
      ],
      "metadata": {
        "id": "QJ4UlfD5KWRr"
      }
    },
    {
      "cell_type": "code",
      "source": [
        "x = data.iloc[:,:-1]\n",
        "y = data['classification']"
      ],
      "metadata": {
        "id": "gr1oPfbRRhgq"
      },
      "execution_count": 25,
      "outputs": []
    },
    {
      "cell_type": "code",
      "source": [
        "lab_enc = preprocessing.LabelEncoder()\n",
        "y = lab_enc.fit_transform(y)"
      ],
      "metadata": {
        "id": "PmgH3URgRjwH"
      },
      "execution_count": 26,
      "outputs": []
    }
  ]
}